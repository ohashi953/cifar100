{
 "cells": [
  {
   "cell_type": "code",
   "execution_count": 1,
   "metadata": {},
   "outputs": [
    {
     "name": "stderr",
     "output_type": "stream",
     "text": [
      "/Users/yukinaohashi/.pyenv/versions/3.7.5/lib/python3.7/site-packages/pandas/compat/__init__.py:120: UserWarning: Could not import the lzma module. Your installed Python is incomplete. Attempting to use lzma compression will result in a RuntimeError.\n",
      "  warnings.warn(msg)\n"
     ]
    }
   ],
   "source": [
    "%matplotlib inline\n",
    "\n",
    "import os\n",
    "\n",
    "import tensorflow.keras as keras\n",
    "import numpy as np\n",
    "import matplotlib.pyplot as plt\n",
    "\n",
    "from tensorflow.keras.layers import Dense, Conv2D, MaxPooling2D, Flatten, Input, Activation, add, Add, Dropout, BatchNormalization\n",
    "from tensorflow.keras.callbacks import EarlyStopping\n",
    "from tensorflow.keras.models import Sequential, Model\n",
    "from tensorflow.keras.datasets import cifar100\n",
    "from tensorflow.keras.datasets import fashion_mnist\n",
    "from tensorflow.keras.utils import to_categorical\n",
    "from sklearn.model_selection import train_test_split\n",
    "from keras.utils import np_utils\n",
    "\n",
    "from IPython.display import SVG\n",
    "from tensorflow.python.keras.utils.vis_utils import model_to_dot\n",
    "from tensorflow.keras.preprocessing.image import ImageDataGenerator\n",
    "\n",
    "random_state = 42"
   ]
  },
  {
   "cell_type": "code",
   "execution_count": 2,
   "metadata": {},
   "outputs": [],
   "source": [
    "(x_train, y_train), (x_test, y_test) = cifar100.load_data(label_mode='fine')\n",
    "\n",
    "x_train = x_train.astype('float32')/255.0\n",
    "y_train = np.eye(100)[y_train.astype('int32').flatten()]\n",
    "x_test = x_test.astype('float32')/255.0\n",
    "y_test = np.eye(100)[y_test.astype('int32').flatten()]\n",
    "\n",
    "x_train, x_valid, y_train, y_valid = train_test_split(\n",
    "    x_train, y_train, test_size=10000)"
   ]
  },
  {
   "cell_type": "code",
   "execution_count": 3,
   "metadata": {},
   "outputs": [],
   "source": [
    "model = Sequential()\n",
    "\n",
    "model.add(Conv2D(6, kernel_size=(5, 5), activation='relu',\n",
    "                 kernel_initializer='he_normal', input_shape=(32, 32, 3)))  # 32x32x3 -> 28x28x6\n",
    "model.add(MaxPooling2D(pool_size=(2, 2)))  # 28x28x6 -> 14x14x6\n",
    "model.add(Conv2D(16, kernel_size=(5, 5), activation='relu',\n",
    "                 kernel_initializer='he_normal'))  # 14x14x6 -> 10x10x16\n",
    "model.add(MaxPooling2D(pool_size=(2, 2)))  # 10x10x16 -> 5x5x16\n",
    "\n",
    "model.add(Flatten())  # 5x5x16 -> 400\n",
    "model.add(Dense(240, activation='relu',\n",
    "                kernel_initializer='he_normal'))  # 400 ->240\n",
    "model.add(Dense(120, activation='relu', kernel_initializer='he_normal'))  # 240 ->120\n",
    "model.add(Dense(100, activation='softmax'))  # 120 ->100\n",
    "\n",
    "model.compile(\n",
    "    loss=keras.losses.categorical_crossentropy,\n",
    "    optimizer='adam',\n",
    "    metrics=['accuracy']\n",
    ")"
   ]
  },
  {
   "cell_type": "code",
   "execution_count": 4,
   "metadata": {},
   "outputs": [],
   "source": [
    "datagen = ImageDataGenerator(\n",
    "    featurewise_center=False,\n",
    "    samplewise_center=False,\n",
    "    featurewise_std_normalization=False,\n",
    "    samplewise_std_normalization=False,\n",
    "    zca_whitening=False,\n",
    "    zca_epsilon=1e-06,\n",
    "    rotation_range=0,\n",
    "    width_shift_range=0.2,  # 3.1.1 左右にずらす\n",
    "    height_shift_range=0.2,  # 3.1.2 上下にずらす\n",
    "    brightness_range=None,\n",
    "    shear_range=0.0,\n",
    "    zoom_range=0.2,\n",
    "    channel_shift_range=0.0,\n",
    "    fill_mode=\"nearest\",\n",
    "    cval=0.0,\n",
    "    horizontal_flip=True,\n",
    "    vertical_flip=False,\n",
    "    rescale=None,\n",
    "    preprocessing_function=None,\n",
    "    data_format=None,\n",
    "    validation_split=0.0,\n",
    "    dtype=None,\n",
    ")"
   ]
  },
  {
   "cell_type": "code",
   "execution_count": 5,
   "metadata": {},
   "outputs": [
    {
     "name": "stdout",
     "output_type": "stream",
     "text": [
      "WARNING:tensorflow:From <ipython-input-5-594a05619b00>:3: Model.fit_generator (from tensorflow.python.keras.engine.training) is deprecated and will be removed in a future version.\n",
      "Instructions for updating:\n",
      "Please use Model.fit, which supports generators.\n",
      "Epoch 1/30\n",
      "400/400 [==============================] - 19s 48ms/step - loss: 4.1831 - accuracy: 0.0627 - val_loss: 3.9228 - val_accuracy: 0.0969\n",
      "Epoch 2/30\n",
      "400/400 [==============================] - 19s 49ms/step - loss: 3.7863 - accuracy: 0.1148 - val_loss: 3.6379 - val_accuracy: 0.1453\n",
      "Epoch 3/30\n",
      "400/400 [==============================] - 19s 48ms/step - loss: 3.6251 - accuracy: 0.1445 - val_loss: 3.4933 - val_accuracy: 0.1682\n",
      "Epoch 4/30\n",
      "400/400 [==============================] - 19s 48ms/step - loss: 3.5023 - accuracy: 0.1638 - val_loss: 3.3729 - val_accuracy: 0.1917\n",
      "Epoch 5/30\n",
      "400/400 [==============================] - 19s 49ms/step - loss: 3.4100 - accuracy: 0.1768 - val_loss: 3.2305 - val_accuracy: 0.2150\n",
      "Epoch 6/30\n",
      "400/400 [==============================] - 20s 50ms/step - loss: 3.3445 - accuracy: 0.1917 - val_loss: 3.1675 - val_accuracy: 0.2271\n",
      "Epoch 7/30\n",
      "400/400 [==============================] - 20s 50ms/step - loss: 3.2890 - accuracy: 0.2033 - val_loss: 3.1148 - val_accuracy: 0.2408\n",
      "Epoch 8/30\n",
      "400/400 [==============================] - 20s 50ms/step - loss: 3.2488 - accuracy: 0.2116 - val_loss: 3.1331 - val_accuracy: 0.2390\n",
      "Epoch 9/30\n",
      "400/400 [==============================] - 20s 51ms/step - loss: 3.2129 - accuracy: 0.2176 - val_loss: 3.1110 - val_accuracy: 0.2399\n",
      "Epoch 10/30\n",
      "400/400 [==============================] - 20s 51ms/step - loss: 3.1672 - accuracy: 0.2248 - val_loss: 3.0604 - val_accuracy: 0.2513\n",
      "Epoch 11/30\n",
      "400/400 [==============================] - 20s 50ms/step - loss: 3.1305 - accuracy: 0.2333 - val_loss: 3.0484 - val_accuracy: 0.2499\n",
      "Epoch 12/30\n",
      "400/400 [==============================] - 20s 50ms/step - loss: 3.1066 - accuracy: 0.2366 - val_loss: 3.0985 - val_accuracy: 0.2418\n",
      "Epoch 13/30\n",
      "400/400 [==============================] - 20s 50ms/step - loss: 3.0801 - accuracy: 0.2407 - val_loss: 2.9985 - val_accuracy: 0.2635\n",
      "Epoch 14/30\n",
      "400/400 [==============================] - 20s 49ms/step - loss: 3.0586 - accuracy: 0.2462 - val_loss: 3.0594 - val_accuracy: 0.2593\n",
      "Epoch 15/30\n",
      "400/400 [==============================] - 20s 49ms/step - loss: 3.0442 - accuracy: 0.2479 - val_loss: 2.9408 - val_accuracy: 0.2695\n",
      "Epoch 16/30\n",
      "400/400 [==============================] - 20s 50ms/step - loss: 3.0265 - accuracy: 0.2509 - val_loss: 2.9310 - val_accuracy: 0.2761\n",
      "Epoch 17/30\n",
      "400/400 [==============================] - 20s 49ms/step - loss: 3.0021 - accuracy: 0.2551 - val_loss: 2.8884 - val_accuracy: 0.2821\n",
      "Epoch 18/30\n",
      "400/400 [==============================] - 20s 49ms/step - loss: 2.9849 - accuracy: 0.2606 - val_loss: 2.9647 - val_accuracy: 0.2686\n",
      "Epoch 19/30\n",
      "400/400 [==============================] - 19s 48ms/step - loss: 2.9596 - accuracy: 0.2635 - val_loss: 2.8866 - val_accuracy: 0.2849\n",
      "Epoch 20/30\n",
      "400/400 [==============================] - 19s 48ms/step - loss: 2.9493 - accuracy: 0.2670 - val_loss: 2.9574 - val_accuracy: 0.2716\n",
      "Epoch 21/30\n",
      "400/400 [==============================] - 19s 48ms/step - loss: 2.9390 - accuracy: 0.2682 - val_loss: 2.8918 - val_accuracy: 0.2795\n",
      "Epoch 22/30\n",
      "400/400 [==============================] - 19s 48ms/step - loss: 2.9253 - accuracy: 0.2701 - val_loss: 2.8473 - val_accuracy: 0.2915\n",
      "Epoch 23/30\n",
      "400/400 [==============================] - 19s 49ms/step - loss: 2.9007 - accuracy: 0.2749 - val_loss: 2.8468 - val_accuracy: 0.2904\n",
      "Epoch 24/30\n",
      "400/400 [==============================] - 19s 48ms/step - loss: 2.8978 - accuracy: 0.2782 - val_loss: 2.8860 - val_accuracy: 0.2871\n",
      "Epoch 25/30\n",
      "400/400 [==============================] - 19s 48ms/step - loss: 2.8712 - accuracy: 0.2811 - val_loss: 2.9290 - val_accuracy: 0.2753\n",
      "Epoch 26/30\n",
      "400/400 [==============================] - 19s 48ms/step - loss: 2.8654 - accuracy: 0.2846 - val_loss: 2.8015 - val_accuracy: 0.2946\n",
      "Epoch 27/30\n",
      "400/400 [==============================] - 19s 48ms/step - loss: 2.8667 - accuracy: 0.2790 - val_loss: 2.8029 - val_accuracy: 0.3023\n",
      "Epoch 28/30\n",
      "400/400 [==============================] - 19s 48ms/step - loss: 2.8463 - accuracy: 0.2860 - val_loss: 2.8080 - val_accuracy: 0.3011\n",
      "Epoch 29/30\n",
      "400/400 [==============================] - 19s 49ms/step - loss: 2.8392 - accuracy: 0.2874 - val_loss: 2.7942 - val_accuracy: 0.3045\n",
      "Epoch 30/30\n",
      "400/400 [==============================] - 20s 49ms/step - loss: 2.8333 - accuracy: 0.2877 - val_loss: 2.8861 - val_accuracy: 0.2859\n"
     ]
    },
    {
     "data": {
      "text/plain": [
       "<tensorflow.python.keras.callbacks.History at 0x10b68b950>"
      ]
     },
     "execution_count": 5,
     "metadata": {},
     "output_type": "execute_result"
    }
   ],
   "source": [
    "model.fit_generator(datagen.flow(x_train, y_train, batch_size=100),\n",
    "                    steps_per_epoch=x_train.shape[0] // 100, epochs=30,\n",
    "                    validation_data=(x_valid, y_valid))"
   ]
  }
 ],
 "metadata": {
  "kernelspec": {
   "display_name": "Python 3",
   "language": "python",
   "name": "python3"
  },
  "language_info": {
   "codemirror_mode": {
    "name": "ipython",
    "version": 3
   },
   "file_extension": ".py",
   "mimetype": "text/x-python",
   "name": "python",
   "nbconvert_exporter": "python",
   "pygments_lexer": "ipython3",
   "version": "3.7.5"
  }
 },
 "nbformat": 4,
 "nbformat_minor": 4
}
