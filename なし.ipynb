{
 "cells": [
  {
   "cell_type": "code",
   "execution_count": 32,
   "metadata": {},
   "outputs": [],
   "source": [
    "%matplotlib inline\n",
    "\n",
    "import os\n",
    "\n",
    "import tensorflow.keras as keras\n",
    "import numpy as np\n",
    "import matplotlib.pyplot as plt\n",
    "\n",
    "from tensorflow.keras.layers import Dense, Conv2D, MaxPooling2D, Flatten, Input, Activation, add, Add, Dropout, BatchNormalization\n",
    "from tensorflow.keras.callbacks import EarlyStopping\n",
    "from tensorflow.keras.models import Sequential, Model\n",
    "from tensorflow.keras.datasets import cifar100\n",
    "from tensorflow.keras.datasets import fashion_mnist\n",
    "from tensorflow.keras.utils import to_categorical\n",
    "from sklearn.model_selection import train_test_split\n",
    "from keras.utils import np_utils\n",
    "\n",
    "from IPython.display import SVG\n",
    "from tensorflow.python.keras.utils.vis_utils import model_to_dot\n",
    "from tensorflow.keras.preprocessing.image import ImageDataGenerator\n",
    "\n",
    "random_state = 42"
   ]
  },
  {
   "cell_type": "code",
   "execution_count": 33,
   "metadata": {},
   "outputs": [],
   "source": [
    "(x_train, y_train), (x_test, y_test) = cifar100.load_data(label_mode='fine')\n",
    "\n",
    "x_train = x_train.astype('float32')/255.0\n",
    "y_train = np.eye(100)[y_train.astype('int32').flatten()]\n",
    "x_test = x_test.astype('float32')/255.0\n",
    "y_test = np.eye(100)[y_test.astype('int32').flatten()]\n",
    "\n",
    "x_train, x_valid, y_train, y_valid = train_test_split(\n",
    "    x_train, y_train, test_size=10000)"
   ]
  },
  {
   "cell_type": "code",
   "execution_count": 34,
   "metadata": {},
   "outputs": [],
   "source": [
    "model = Sequential()\n",
    "\n",
    "model.add(Conv2D(6, kernel_size=(5, 5), activation='relu',\n",
    "                 kernel_initializer='he_normal', input_shape=(32, 32, 3)))  # 32x32x3 -> 28x28x6\n",
    "model.add(MaxPooling2D(pool_size=(2, 2)))  # 28x28x6 -> 14x14x6\n",
    "model.add(Conv2D(16, kernel_size=(5, 5), activation='relu',\n",
    "                 kernel_initializer='he_normal'))  # 14x14x6 -> 10x10x16\n",
    "model.add(MaxPooling2D(pool_size=(2, 2)))  # 10x10x16 -> 5x5x16\n",
    "\n",
    "model.add(Flatten())  # 5x5x16 -> 400\n",
    "model.add(Dense(240, activation='relu',\n",
    "                kernel_initializer='he_normal'))  # 400 ->240\n",
    "model.add(Dense(120, activation='relu', kernel_initializer='he_normal'))  # 240 ->120\n",
    "model.add(Dense(100, activation='softmax'))  # 120 ->100\n",
    "\n",
    "model.compile(\n",
    "    loss=keras.losses.categorical_crossentropy,\n",
    "    optimizer='adam',\n",
    "    metrics=['accuracy']\n",
    ")"
   ]
  },
  {
   "cell_type": "code",
   "execution_count": 35,
   "metadata": {},
   "outputs": [
    {
     "name": "stdout",
     "output_type": "stream",
     "text": [
      "Epoch 1/30\n",
      "400/400 [==============================] - 16s 39ms/step - loss: 4.0881 - accuracy: 0.0852 - val_loss: 3.7017 - val_accuracy: 0.1441\n",
      "Epoch 2/30\n",
      "400/400 [==============================] - 16s 40ms/step - loss: 3.5296 - accuracy: 0.1707 - val_loss: 3.3900 - val_accuracy: 0.1941\n",
      "Epoch 3/30\n",
      "400/400 [==============================] - 16s 41ms/step - loss: 3.2632 - accuracy: 0.2152 - val_loss: 3.2711 - val_accuracy: 0.2186\n",
      "Epoch 4/30\n",
      "400/400 [==============================] - 16s 39ms/step - loss: 3.0792 - accuracy: 0.2479 - val_loss: 3.1916 - val_accuracy: 0.2293\n",
      "Epoch 5/30\n",
      "400/400 [==============================] - 16s 39ms/step - loss: 2.9345 - accuracy: 0.2767 - val_loss: 3.0824 - val_accuracy: 0.2494\n",
      "Epoch 6/30\n",
      "400/400 [==============================] - 16s 40ms/step - loss: 2.8011 - accuracy: 0.3038 - val_loss: 3.0743 - val_accuracy: 0.2541\n",
      "Epoch 7/30\n",
      "400/400 [==============================] - 17s 42ms/step - loss: 2.7033 - accuracy: 0.3230 - val_loss: 2.9888 - val_accuracy: 0.2736\n",
      "Epoch 8/30\n",
      "400/400 [==============================] - 18s 45ms/step - loss: 2.6084 - accuracy: 0.3420 - val_loss: 3.0115 - val_accuracy: 0.2701\n",
      "Epoch 9/30\n",
      "400/400 [==============================] - 17s 43ms/step - loss: 2.5228 - accuracy: 0.3573 - val_loss: 2.9789 - val_accuracy: 0.2810\n",
      "Epoch 10/30\n",
      "400/400 [==============================] - 18s 46ms/step - loss: 2.4539 - accuracy: 0.3705 - val_loss: 3.0076 - val_accuracy: 0.2762\n",
      "Epoch 11/30\n",
      "400/400 [==============================] - 18s 44ms/step - loss: 2.3657 - accuracy: 0.3894 - val_loss: 3.0220 - val_accuracy: 0.2810\n",
      "Epoch 12/30\n",
      "400/400 [==============================] - 17s 41ms/step - loss: 2.3002 - accuracy: 0.4060 - val_loss: 3.0291 - val_accuracy: 0.2796\n",
      "Epoch 13/30\n",
      "400/400 [==============================] - 17s 41ms/step - loss: 2.2258 - accuracy: 0.4207 - val_loss: 3.0700 - val_accuracy: 0.2754\n",
      "Epoch 14/30\n",
      "400/400 [==============================] - 17s 43ms/step - loss: 2.1612 - accuracy: 0.4349 - val_loss: 3.0460 - val_accuracy: 0.2898\n",
      "Epoch 15/30\n",
      "400/400 [==============================] - 16s 40ms/step - loss: 2.0938 - accuracy: 0.4474 - val_loss: 3.1420 - val_accuracy: 0.2795\n",
      "Epoch 16/30\n",
      "400/400 [==============================] - 11s 29ms/step - loss: 2.0362 - accuracy: 0.4596 - val_loss: 3.1223 - val_accuracy: 0.2800\n",
      "Epoch 17/30\n",
      "400/400 [==============================] - 11s 28ms/step - loss: 1.9812 - accuracy: 0.4735 - val_loss: 3.1807 - val_accuracy: 0.2815\n",
      "Epoch 18/30\n",
      "400/400 [==============================] - 11s 28ms/step - loss: 1.9177 - accuracy: 0.4867 - val_loss: 3.2333 - val_accuracy: 0.2753\n",
      "Epoch 19/30\n",
      "400/400 [==============================] - 11s 28ms/step - loss: 1.8687 - accuracy: 0.4987 - val_loss: 3.2553 - val_accuracy: 0.2801\n",
      "Epoch 20/30\n",
      "400/400 [==============================] - 11s 28ms/step - loss: 1.8207 - accuracy: 0.5095 - val_loss: 3.3033 - val_accuracy: 0.2777\n",
      "Epoch 21/30\n",
      "400/400 [==============================] - 11s 28ms/step - loss: 1.7640 - accuracy: 0.5224 - val_loss: 3.3533 - val_accuracy: 0.2730\n",
      "Epoch 22/30\n",
      "400/400 [==============================] - 11s 29ms/step - loss: 1.7135 - accuracy: 0.5343 - val_loss: 3.4011 - val_accuracy: 0.2705\n",
      "Epoch 23/30\n",
      "400/400 [==============================] - 11s 28ms/step - loss: 1.6655 - accuracy: 0.5438 - val_loss: 3.4735 - val_accuracy: 0.2656\n",
      "Epoch 24/30\n",
      "400/400 [==============================] - 11s 28ms/step - loss: 1.6147 - accuracy: 0.5582 - val_loss: 3.5204 - val_accuracy: 0.2713\n",
      "Epoch 25/30\n",
      "400/400 [==============================] - 11s 28ms/step - loss: 1.5735 - accuracy: 0.5678 - val_loss: 3.6301 - val_accuracy: 0.2672\n",
      "Epoch 26/30\n",
      "400/400 [==============================] - 11s 28ms/step - loss: 1.5312 - accuracy: 0.5745 - val_loss: 3.6513 - val_accuracy: 0.2700\n",
      "Epoch 27/30\n",
      "400/400 [==============================] - 11s 29ms/step - loss: 1.4922 - accuracy: 0.5843 - val_loss: 3.7347 - val_accuracy: 0.2659\n",
      "Epoch 28/30\n",
      "400/400 [==============================] - 11s 28ms/step - loss: 1.4445 - accuracy: 0.5966 - val_loss: 3.7659 - val_accuracy: 0.2627\n",
      "Epoch 29/30\n",
      "400/400 [==============================] - 12s 29ms/step - loss: 1.4092 - accuracy: 0.6025 - val_loss: 3.9033 - val_accuracy: 0.2699\n",
      "Epoch 30/30\n",
      "400/400 [==============================] - 11s 28ms/step - loss: 1.3603 - accuracy: 0.6197 - val_loss: 3.9149 - val_accuracy: 0.2644\n"
     ]
    },
    {
     "data": {
      "text/plain": [
       "<tensorflow.python.keras.callbacks.History at 0x14cb6d710>"
      ]
     },
     "execution_count": 35,
     "metadata": {},
     "output_type": "execute_result"
    }
   ],
   "source": [
    "model.fit(x=x_train, y=y_train, batch_size=100, epochs=30, verbose=1,\n",
    "          validation_data=(x_valid, y_valid))"
   ]
  }
 ],
 "metadata": {
  "kernelspec": {
   "display_name": "Python 3",
   "language": "python",
   "name": "python3"
  },
  "language_info": {
   "codemirror_mode": {
    "name": "ipython",
    "version": 3
   },
   "file_extension": ".py",
   "mimetype": "text/x-python",
   "name": "python",
   "nbconvert_exporter": "python",
   "pygments_lexer": "ipython3",
   "version": "3.7.5"
  }
 },
 "nbformat": 4,
 "nbformat_minor": 4
}
