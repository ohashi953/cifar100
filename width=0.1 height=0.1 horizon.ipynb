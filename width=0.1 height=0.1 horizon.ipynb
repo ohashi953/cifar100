{
 "cells": [
  {
   "cell_type": "code",
   "execution_count": 1,
   "metadata": {},
   "outputs": [
    {
     "name": "stderr",
     "output_type": "stream",
     "text": [
      "/Users/yukinaohashi/.pyenv/versions/3.7.5/lib/python3.7/site-packages/pandas/compat/__init__.py:120: UserWarning: Could not import the lzma module. Your installed Python is incomplete. Attempting to use lzma compression will result in a RuntimeError.\n",
      "  warnings.warn(msg)\n"
     ]
    }
   ],
   "source": [
    "%matplotlib inline\n",
    "\n",
    "import os\n",
    "\n",
    "import tensorflow.keras as keras\n",
    "import numpy as np\n",
    "import matplotlib.pyplot as plt\n",
    "\n",
    "from tensorflow.keras.layers import Dense, Conv2D, MaxPooling2D, Flatten, Input, Activation, add, Add, Dropout, BatchNormalization\n",
    "from tensorflow.keras.callbacks import EarlyStopping\n",
    "from tensorflow.keras.models import Sequential, Model\n",
    "from tensorflow.keras.datasets import cifar100\n",
    "from tensorflow.keras.datasets import fashion_mnist\n",
    "from tensorflow.keras.utils import to_categorical\n",
    "from sklearn.model_selection import train_test_split\n",
    "from keras.utils import np_utils\n",
    "\n",
    "from IPython.display import SVG\n",
    "from tensorflow.python.keras.utils.vis_utils import model_to_dot\n",
    "from tensorflow.keras.preprocessing.image import ImageDataGenerator\n",
    "\n",
    "random_state = 42"
   ]
  },
  {
   "cell_type": "code",
   "execution_count": 2,
   "metadata": {},
   "outputs": [],
   "source": [
    "(x_train, y_train), (x_test, y_test) = cifar100.load_data(label_mode='fine')\n",
    "\n",
    "x_train = x_train.astype('float32')/255.0\n",
    "y_train = np.eye(100)[y_train.astype('int32').flatten()]\n",
    "x_test = x_test.astype('float32')/255.0\n",
    "y_test = np.eye(100)[y_test.astype('int32').flatten()]\n",
    "\n",
    "x_train, x_valid, y_train, y_valid = train_test_split(\n",
    "    x_train, y_train, test_size=10000)"
   ]
  },
  {
   "cell_type": "code",
   "execution_count": 3,
   "metadata": {},
   "outputs": [],
   "source": [
    "model = Sequential()\n",
    "\n",
    "model.add(Conv2D(6, kernel_size=(5, 5), activation='relu',\n",
    "                 kernel_initializer='he_normal', input_shape=(32, 32, 3)))  # 32x32x3 -> 28x28x6\n",
    "model.add(MaxPooling2D(pool_size=(2, 2)))  # 28x28x6 -> 14x14x6\n",
    "model.add(Conv2D(16, kernel_size=(5, 5), activation='relu',\n",
    "                 kernel_initializer='he_normal'))  # 14x14x6 -> 10x10x16\n",
    "model.add(MaxPooling2D(pool_size=(2, 2)))  # 10x10x16 -> 5x5x16\n",
    "\n",
    "model.add(Flatten())  # 5x5x16 -> 400\n",
    "model.add(Dense(240, activation='relu',\n",
    "                kernel_initializer='he_normal'))  # 400 ->240\n",
    "model.add(Dense(120, activation='relu', kernel_initializer='he_normal'))  # 240 ->120\n",
    "model.add(Dense(100, activation='softmax'))  # 120 ->100\n",
    "\n",
    "model.compile(\n",
    "    loss=keras.losses.categorical_crossentropy,\n",
    "    optimizer='adam',\n",
    "    metrics=['accuracy']\n",
    ")"
   ]
  },
  {
   "cell_type": "code",
   "execution_count": 4,
   "metadata": {},
   "outputs": [],
   "source": [
    "datagen = ImageDataGenerator(\n",
    "    featurewise_center=False,  # 3.2.1 Global Contrast Normalization (GCN)\n",
    "    samplewise_center=False,\n",
    "    featurewise_std_normalization=False,\n",
    "    samplewise_std_normalization=False,\n",
    "    zca_whitening=False,  # 3.2.2 Zero-phase Component Analysis (ZCA) Whitening\n",
    "    zca_epsilon=1e-06,\n",
    "    rotation_range=0,\n",
    "    width_shift_range=0.1,  # 3.1.1 左右にずらす\n",
    "    height_shift_range=0.1,  # 3.1.2 上下にずらす\n",
    "    brightness_range=None,\n",
    "    shear_range=0.0,\n",
    "    zoom_range=0.0,\n",
    "    channel_shift_range=0.0,\n",
    "    fill_mode=\"nearest\",\n",
    "    cval=0.0,\n",
    "    horizontal_flip=True,  # 3.1.3 左右反転\n",
    "    vertical_flip=False,\n",
    "    rescale=None,\n",
    "    preprocessing_function=None,\n",
    "    data_format=None,\n",
    "    validation_split=0.0,\n",
    "    dtype=None,\n",
    ")"
   ]
  },
  {
   "cell_type": "code",
   "execution_count": 5,
   "metadata": {},
   "outputs": [
    {
     "name": "stdout",
     "output_type": "stream",
     "text": [
      "WARNING:tensorflow:From <ipython-input-5-594a05619b00>:3: Model.fit_generator (from tensorflow.python.keras.engine.training) is deprecated and will be removed in a future version.\n",
      "Instructions for updating:\n",
      "Please use Model.fit, which supports generators.\n",
      "Epoch 1/30\n",
      "400/400 [==============================] - 27s 68ms/step - loss: 4.1698 - accuracy: 0.0707 - val_loss: 3.7949 - val_accuracy: 0.1231\n",
      "Epoch 2/30\n",
      "400/400 [==============================] - 19s 47ms/step - loss: 3.6383 - accuracy: 0.1496 - val_loss: 3.4390 - val_accuracy: 0.1829\n",
      "Epoch 3/30\n",
      "400/400 [==============================] - 19s 47ms/step - loss: 3.4071 - accuracy: 0.1875 - val_loss: 3.2943 - val_accuracy: 0.2117\n",
      "Epoch 4/30\n",
      "400/400 [==============================] - 19s 47ms/step - loss: 3.2697 - accuracy: 0.2114 - val_loss: 3.1805 - val_accuracy: 0.2273\n",
      "Epoch 5/30\n",
      "400/400 [==============================] - 19s 47ms/step - loss: 3.1757 - accuracy: 0.2293 - val_loss: 3.1937 - val_accuracy: 0.2309\n",
      "Epoch 6/30\n",
      "400/400 [==============================] - 19s 47ms/step - loss: 3.1069 - accuracy: 0.2410 - val_loss: 3.0891 - val_accuracy: 0.2486\n",
      "Epoch 7/30\n",
      "400/400 [==============================] - 19s 47ms/step - loss: 3.0383 - accuracy: 0.2537 - val_loss: 3.0158 - val_accuracy: 0.2652\n",
      "Epoch 8/30\n",
      "400/400 [==============================] - 19s 47ms/step - loss: 2.9897 - accuracy: 0.2636 - val_loss: 2.9805 - val_accuracy: 0.2711\n",
      "Epoch 9/30\n",
      "400/400 [==============================] - 19s 47ms/step - loss: 2.9438 - accuracy: 0.2700 - val_loss: 2.9549 - val_accuracy: 0.2701\n",
      "Epoch 10/30\n",
      "400/400 [==============================] - 19s 47ms/step - loss: 2.9038 - accuracy: 0.2772 - val_loss: 2.9938 - val_accuracy: 0.2647\n",
      "Epoch 11/30\n",
      "400/400 [==============================] - 19s 48ms/step - loss: 2.8644 - accuracy: 0.2853 - val_loss: 2.9486 - val_accuracy: 0.2800\n",
      "Epoch 12/30\n",
      "400/400 [==============================] - 19s 48ms/step - loss: 2.8353 - accuracy: 0.2901 - val_loss: 2.9846 - val_accuracy: 0.2734\n",
      "Epoch 13/30\n",
      "400/400 [==============================] - 19s 47ms/step - loss: 2.8055 - accuracy: 0.2961 - val_loss: 2.8912 - val_accuracy: 0.2844\n",
      "Epoch 14/30\n",
      "400/400 [==============================] - 19s 47ms/step - loss: 2.7760 - accuracy: 0.3044 - val_loss: 2.8556 - val_accuracy: 0.2923\n",
      "Epoch 15/30\n",
      "400/400 [==============================] - 19s 47ms/step - loss: 2.7471 - accuracy: 0.3097 - val_loss: 2.8519 - val_accuracy: 0.2949\n",
      "Epoch 16/30\n",
      "400/400 [==============================] - 19s 46ms/step - loss: 2.7267 - accuracy: 0.3126 - val_loss: 2.9098 - val_accuracy: 0.2893\n",
      "Epoch 17/30\n",
      "400/400 [==============================] - 18s 46ms/step - loss: 2.7030 - accuracy: 0.3173 - val_loss: 2.8080 - val_accuracy: 0.3075\n",
      "Epoch 18/30\n",
      "400/400 [==============================] - 19s 47ms/step - loss: 2.6680 - accuracy: 0.3271 - val_loss: 2.9001 - val_accuracy: 0.2881\n",
      "Epoch 19/30\n",
      "400/400 [==============================] - 19s 46ms/step - loss: 2.6443 - accuracy: 0.3271 - val_loss: 2.8196 - val_accuracy: 0.3030\n",
      "Epoch 20/30\n",
      "400/400 [==============================] - 18s 46ms/step - loss: 2.6523 - accuracy: 0.3282 - val_loss: 2.8349 - val_accuracy: 0.3021\n",
      "Epoch 21/30\n",
      "400/400 [==============================] - 19s 47ms/step - loss: 2.6121 - accuracy: 0.3356 - val_loss: 2.8527 - val_accuracy: 0.2993\n",
      "Epoch 22/30\n",
      "400/400 [==============================] - 19s 47ms/step - loss: 2.5939 - accuracy: 0.3407 - val_loss: 2.8011 - val_accuracy: 0.3098\n",
      "Epoch 23/30\n",
      "400/400 [==============================] - 19s 47ms/step - loss: 2.5808 - accuracy: 0.3404 - val_loss: 2.7803 - val_accuracy: 0.3141\n",
      "Epoch 24/30\n",
      "400/400 [==============================] - 19s 48ms/step - loss: 2.5550 - accuracy: 0.3474 - val_loss: 2.8062 - val_accuracy: 0.3113\n",
      "Epoch 25/30\n",
      "400/400 [==============================] - 19s 47ms/step - loss: 2.5524 - accuracy: 0.3464 - val_loss: 2.7695 - val_accuracy: 0.3155\n",
      "Epoch 26/30\n",
      "400/400 [==============================] - 19s 47ms/step - loss: 2.5358 - accuracy: 0.3532 - val_loss: 2.7802 - val_accuracy: 0.3196\n",
      "Epoch 27/30\n",
      "400/400 [==============================] - 19s 47ms/step - loss: 2.5257 - accuracy: 0.3516 - val_loss: 2.7628 - val_accuracy: 0.3155\n",
      "Epoch 28/30\n",
      "400/400 [==============================] - 19s 47ms/step - loss: 2.5019 - accuracy: 0.3538 - val_loss: 2.8228 - val_accuracy: 0.3027\n",
      "Epoch 29/30\n",
      "400/400 [==============================] - 19s 47ms/step - loss: 2.4804 - accuracy: 0.3630 - val_loss: 2.8044 - val_accuracy: 0.3105\n",
      "Epoch 30/30\n",
      "400/400 [==============================] - 19s 48ms/step - loss: 2.4742 - accuracy: 0.3636 - val_loss: 2.7793 - val_accuracy: 0.3167\n"
     ]
    },
    {
     "data": {
      "text/plain": [
       "<tensorflow.python.keras.callbacks.History at 0x1456f3bd0>"
      ]
     },
     "execution_count": 5,
     "metadata": {},
     "output_type": "execute_result"
    }
   ],
   "source": [
    "model.fit_generator(datagen.flow(x_train, y_train, batch_size=100),\n",
    "                    steps_per_epoch=x_train.shape[0] // 100, epochs=30,\n",
    "                    validation_data=(x_valid, y_valid))"
   ]
  }
 ],
 "metadata": {
  "kernelspec": {
   "display_name": "Python 3",
   "language": "python",
   "name": "python3"
  },
  "language_info": {
   "codemirror_mode": {
    "name": "ipython",
    "version": 3
   },
   "file_extension": ".py",
   "mimetype": "text/x-python",
   "name": "python",
   "nbconvert_exporter": "python",
   "pygments_lexer": "ipython3",
   "version": "3.7.5"
  }
 },
 "nbformat": 4,
 "nbformat_minor": 4
}
