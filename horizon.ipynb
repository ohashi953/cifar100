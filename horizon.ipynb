{
 "cells": [
  {
   "cell_type": "code",
   "execution_count": 1,
   "metadata": {},
   "outputs": [
    {
     "name": "stderr",
     "output_type": "stream",
     "text": [
      "/Users/yukinaohashi/.pyenv/versions/3.7.5/lib/python3.7/site-packages/pandas/compat/__init__.py:120: UserWarning: Could not import the lzma module. Your installed Python is incomplete. Attempting to use lzma compression will result in a RuntimeError.\n",
      "  warnings.warn(msg)\n"
     ]
    }
   ],
   "source": [
    "%matplotlib inline\n",
    "\n",
    "import os\n",
    "\n",
    "import tensorflow.keras as keras\n",
    "import numpy as np\n",
    "import matplotlib.pyplot as plt\n",
    "\n",
    "from tensorflow.keras.layers import Dense, Conv2D, MaxPooling2D, Flatten, Input, Activation, add, Add, Dropout, BatchNormalization\n",
    "from tensorflow.keras.callbacks import EarlyStopping\n",
    "from tensorflow.keras.models import Sequential, Model\n",
    "from tensorflow.keras.datasets import cifar100\n",
    "from tensorflow.keras.datasets import fashion_mnist\n",
    "from tensorflow.keras.utils import to_categorical\n",
    "from sklearn.model_selection import train_test_split\n",
    "from keras.utils import np_utils\n",
    "\n",
    "from IPython.display import SVG\n",
    "from tensorflow.python.keras.utils.vis_utils import model_to_dot\n",
    "from tensorflow.keras.preprocessing.image import ImageDataGenerator\n",
    "\n",
    "random_state = 42"
   ]
  },
  {
   "cell_type": "code",
   "execution_count": 2,
   "metadata": {},
   "outputs": [],
   "source": [
    "(x_train, y_train), (x_test, y_test) = cifar100.load_data(label_mode='fine')\n",
    "\n",
    "x_train = x_train.astype('float32')/255.0\n",
    "y_train = np.eye(100)[y_train.astype('int32').flatten()]\n",
    "x_test = x_test.astype('float32')/255.0\n",
    "y_test = np.eye(100)[y_test.astype('int32').flatten()]\n",
    "\n",
    "x_train, x_valid, y_train, y_valid = train_test_split(\n",
    "    x_train, y_train, test_size=10000)"
   ]
  },
  {
   "cell_type": "code",
   "execution_count": 3,
   "metadata": {},
   "outputs": [],
   "source": [
    "model = Sequential()\n",
    "\n",
    "model.add(Conv2D(6, kernel_size=(5, 5), activation='relu',\n",
    "                 kernel_initializer='he_normal', input_shape=(32, 32, 3)))  # 32x32x3 -> 28x28x6\n",
    "model.add(MaxPooling2D(pool_size=(2, 2)))  # 28x28x6 -> 14x14x6\n",
    "model.add(Conv2D(16, kernel_size=(5, 5), activation='relu',\n",
    "                 kernel_initializer='he_normal'))  # 14x14x6 -> 10x10x16\n",
    "model.add(MaxPooling2D(pool_size=(2, 2)))  # 10x10x16 -> 5x5x16\n",
    "\n",
    "model.add(Flatten())  # 5x5x16 -> 400\n",
    "model.add(Dense(240, activation='relu',\n",
    "                kernel_initializer='he_normal'))  # 400 ->240\n",
    "model.add(Dense(120, activation='relu', kernel_initializer='he_normal'))  # 240 ->120\n",
    "model.add(Dense(100, activation='softmax'))  # 120 ->100\n",
    "\n",
    "model.compile(\n",
    "    loss=keras.losses.categorical_crossentropy,\n",
    "    optimizer='adam',\n",
    "    metrics=['accuracy']\n",
    ")"
   ]
  },
  {
   "cell_type": "code",
   "execution_count": 4,
   "metadata": {},
   "outputs": [],
   "source": [
    "datagen = ImageDataGenerator(\n",
    "    featurewise_center=False,  # 3.2.1 Global Contrast Normalization (GCN)\n",
    "    samplewise_center=False,\n",
    "    featurewise_std_normalization=False,\n",
    "    samplewise_std_normalization=False,\n",
    "    zca_whitening=False,  # 3.2.2 Zero-phase Component Analysis (ZCA) Whitening\n",
    "    zca_epsilon=1e-06,\n",
    "    rotation_range=0,\n",
    "    width_shift_range=0.0,  # 3.1.1 左右にずらす\n",
    "    height_shift_range=0.0,  # 3.1.2 上下にずらす\n",
    "    brightness_range=None,\n",
    "    shear_range=0.0,\n",
    "    zoom_range=0.0,\n",
    "    channel_shift_range=0.0,\n",
    "    fill_mode=\"nearest\",\n",
    "    cval=0.0,\n",
    "    horizontal_flip=True,  # 3.1.3 左右反転\n",
    "    vertical_flip=False,\n",
    "    rescale=None,\n",
    "    preprocessing_function=None,\n",
    "    data_format=None,\n",
    "    validation_split=0.0,\n",
    "    dtype=None,\n",
    ")"
   ]
  },
  {
   "cell_type": "code",
   "execution_count": 5,
   "metadata": {},
   "outputs": [
    {
     "name": "stdout",
     "output_type": "stream",
     "text": [
      "WARNING:tensorflow:From <ipython-input-5-594a05619b00>:3: Model.fit_generator (from tensorflow.python.keras.engine.training) is deprecated and will be removed in a future version.\n",
      "Instructions for updating:\n",
      "Please use Model.fit, which supports generators.\n",
      "Epoch 1/30\n",
      "400/400 [==============================] - 23s 58ms/step - loss: 4.1711 - accuracy: 0.0685 - val_loss: 3.7190 - val_accuracy: 0.1378\n",
      "Epoch 2/30\n",
      "400/400 [==============================] - 23s 57ms/step - loss: 3.5103 - accuracy: 0.1694 - val_loss: 3.3721 - val_accuracy: 0.1924\n",
      "Epoch 3/30\n",
      "400/400 [==============================] - 23s 57ms/step - loss: 3.2311 - accuracy: 0.2195 - val_loss: 3.2100 - val_accuracy: 0.2263\n",
      "Epoch 4/30\n",
      "400/400 [==============================] - 23s 58ms/step - loss: 3.0535 - accuracy: 0.2534 - val_loss: 3.1004 - val_accuracy: 0.2481\n",
      "Epoch 5/30\n",
      "400/400 [==============================] - 23s 58ms/step - loss: 2.9231 - accuracy: 0.2781 - val_loss: 3.0132 - val_accuracy: 0.2598\n",
      "Epoch 6/30\n",
      "400/400 [==============================] - 23s 59ms/step - loss: 2.8234 - accuracy: 0.2973 - val_loss: 2.9589 - val_accuracy: 0.2766\n",
      "Epoch 7/30\n",
      "400/400 [==============================] - 23s 58ms/step - loss: 2.7311 - accuracy: 0.3144 - val_loss: 2.9099 - val_accuracy: 0.2815\n",
      "Epoch 8/30\n",
      "400/400 [==============================] - 23s 58ms/step - loss: 2.6686 - accuracy: 0.3261 - val_loss: 2.8656 - val_accuracy: 0.2999\n",
      "Epoch 9/30\n",
      "400/400 [==============================] - 23s 58ms/step - loss: 2.5998 - accuracy: 0.3414 - val_loss: 2.8434 - val_accuracy: 0.3023\n",
      "Epoch 10/30\n",
      "400/400 [==============================] - 23s 58ms/step - loss: 2.5409 - accuracy: 0.3536 - val_loss: 2.8487 - val_accuracy: 0.3048\n",
      "Epoch 11/30\n",
      "400/400 [==============================] - 23s 58ms/step - loss: 2.4882 - accuracy: 0.3643 - val_loss: 2.8565 - val_accuracy: 0.3005\n",
      "Epoch 12/30\n",
      "400/400 [==============================] - 23s 59ms/step - loss: 2.4512 - accuracy: 0.3724 - val_loss: 2.8167 - val_accuracy: 0.3089\n",
      "Epoch 13/30\n",
      "400/400 [==============================] - 24s 59ms/step - loss: 2.3919 - accuracy: 0.3845 - val_loss: 2.8240 - val_accuracy: 0.3045\n",
      "Epoch 14/30\n",
      "400/400 [==============================] - 24s 59ms/step - loss: 2.3612 - accuracy: 0.3904 - val_loss: 2.8401 - val_accuracy: 0.3049\n",
      "Epoch 15/30\n",
      "400/400 [==============================] - 24s 59ms/step - loss: 2.3188 - accuracy: 0.3997 - val_loss: 2.8506 - val_accuracy: 0.3128\n",
      "Epoch 16/30\n",
      "400/400 [==============================] - 24s 59ms/step - loss: 2.2807 - accuracy: 0.4081 - val_loss: 2.8083 - val_accuracy: 0.3195\n",
      "Epoch 17/30\n",
      "400/400 [==============================] - 24s 59ms/step - loss: 2.2429 - accuracy: 0.4147 - val_loss: 2.7908 - val_accuracy: 0.3216\n",
      "Epoch 18/30\n",
      "400/400 [==============================] - 24s 59ms/step - loss: 2.2122 - accuracy: 0.4193 - val_loss: 2.8341 - val_accuracy: 0.3135\n",
      "Epoch 19/30\n",
      "400/400 [==============================] - 24s 60ms/step - loss: 2.1740 - accuracy: 0.4303 - val_loss: 2.8302 - val_accuracy: 0.3132\n",
      "Epoch 20/30\n",
      "400/400 [==============================] - 24s 60ms/step - loss: 2.1495 - accuracy: 0.4371 - val_loss: 2.8937 - val_accuracy: 0.3097\n",
      "Epoch 21/30\n",
      "400/400 [==============================] - 24s 60ms/step - loss: 2.1268 - accuracy: 0.4406 - val_loss: 2.8672 - val_accuracy: 0.3147\n",
      "Epoch 22/30\n",
      "400/400 [==============================] - 24s 59ms/step - loss: 2.0867 - accuracy: 0.4475 - val_loss: 2.8466 - val_accuracy: 0.3207\n",
      "Epoch 23/30\n",
      "400/400 [==============================] - 24s 60ms/step - loss: 2.0582 - accuracy: 0.4553 - val_loss: 2.8506 - val_accuracy: 0.3203\n",
      "Epoch 24/30\n",
      "400/400 [==============================] - 25s 62ms/step - loss: 2.0330 - accuracy: 0.4622 - val_loss: 2.9198 - val_accuracy: 0.3210\n",
      "Epoch 25/30\n",
      "400/400 [==============================] - 26s 64ms/step - loss: 2.0099 - accuracy: 0.4666 - val_loss: 2.8693 - val_accuracy: 0.3192\n",
      "Epoch 26/30\n",
      "400/400 [==============================] - 25s 62ms/step - loss: 1.9895 - accuracy: 0.4724 - val_loss: 2.8707 - val_accuracy: 0.3212\n",
      "Epoch 27/30\n",
      "400/400 [==============================] - 24s 60ms/step - loss: 1.9510 - accuracy: 0.4810 - val_loss: 2.9225 - val_accuracy: 0.3120\n",
      "Epoch 28/30\n",
      "400/400 [==============================] - 25s 63ms/step - loss: 1.9440 - accuracy: 0.4816 - val_loss: 2.9268 - val_accuracy: 0.3120\n",
      "Epoch 29/30\n",
      "400/400 [==============================] - 25s 62ms/step - loss: 1.9195 - accuracy: 0.4882 - val_loss: 2.9877 - val_accuracy: 0.3116\n",
      "Epoch 30/30\n",
      "400/400 [==============================] - 24s 61ms/step - loss: 1.8952 - accuracy: 0.4911 - val_loss: 2.9436 - val_accuracy: 0.3181\n"
     ]
    },
    {
     "data": {
      "text/plain": [
       "<tensorflow.python.keras.callbacks.History at 0x102964c10>"
      ]
     },
     "execution_count": 5,
     "metadata": {},
     "output_type": "execute_result"
    }
   ],
   "source": [
    "model.fit_generator(datagen.flow(x_train, y_train, batch_size=100),\n",
    "                    steps_per_epoch=x_train.shape[0] // 100, epochs=30,\n",
    "                    validation_data=(x_valid, y_valid))"
   ]
  }
 ],
 "metadata": {
  "kernelspec": {
   "display_name": "Python 3",
   "language": "python",
   "name": "python3"
  },
  "language_info": {
   "codemirror_mode": {
    "name": "ipython",
    "version": 3
   },
   "file_extension": ".py",
   "mimetype": "text/x-python",
   "name": "python",
   "nbconvert_exporter": "python",
   "pygments_lexer": "ipython3",
   "version": "3.7.5"
  }
 },
 "nbformat": 4,
 "nbformat_minor": 4
}
