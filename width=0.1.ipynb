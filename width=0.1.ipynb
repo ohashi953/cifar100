{
 "cells": [
  {
   "cell_type": "code",
   "execution_count": 1,
   "metadata": {},
   "outputs": [
    {
     "name": "stderr",
     "output_type": "stream",
     "text": [
      "/Users/yukinaohashi/.pyenv/versions/3.7.5/lib/python3.7/site-packages/pandas/compat/__init__.py:120: UserWarning: Could not import the lzma module. Your installed Python is incomplete. Attempting to use lzma compression will result in a RuntimeError.\n",
      "  warnings.warn(msg)\n"
     ]
    }
   ],
   "source": [
    "%matplotlib inline\n",
    "\n",
    "import os\n",
    "\n",
    "import tensorflow.keras as keras\n",
    "import numpy as np\n",
    "import matplotlib.pyplot as plt\n",
    "\n",
    "from tensorflow.keras.layers import Dense, Conv2D, MaxPooling2D, Flatten, Input, Activation, add, Add, Dropout, BatchNormalization\n",
    "from tensorflow.keras.callbacks import EarlyStopping\n",
    "from tensorflow.keras.models import Sequential, Model\n",
    "from tensorflow.keras.datasets import cifar100\n",
    "from tensorflow.keras.datasets import fashion_mnist\n",
    "from tensorflow.keras.utils import to_categorical\n",
    "from sklearn.model_selection import train_test_split\n",
    "from keras.utils import np_utils\n",
    "\n",
    "from IPython.display import SVG\n",
    "from tensorflow.python.keras.utils.vis_utils import model_to_dot\n",
    "from tensorflow.keras.preprocessing.image import ImageDataGenerator\n",
    "\n",
    "random_state = 42"
   ]
  },
  {
   "cell_type": "code",
   "execution_count": 2,
   "metadata": {},
   "outputs": [],
   "source": [
    "(x_train, y_train), (x_test, y_test) = cifar100.load_data(label_mode='fine')\n",
    "\n",
    "x_train = x_train.astype('float32')/255.0\n",
    "y_train = np.eye(100)[y_train.astype('int32').flatten()]\n",
    "x_test = x_test.astype('float32')/255.0\n",
    "y_test = np.eye(100)[y_test.astype('int32').flatten()]\n",
    "\n",
    "x_train, x_valid, y_train, y_valid = train_test_split(\n",
    "    x_train, y_train, test_size=10000)"
   ]
  },
  {
   "cell_type": "code",
   "execution_count": 3,
   "metadata": {},
   "outputs": [],
   "source": [
    "model = Sequential()\n",
    "\n",
    "model.add(Conv2D(6, kernel_size=(5, 5), activation='relu',\n",
    "                 kernel_initializer='he_normal', input_shape=(32, 32, 3)))  # 32x32x3 -> 28x28x6\n",
    "model.add(MaxPooling2D(pool_size=(2, 2)))  # 28x28x6 -> 14x14x6\n",
    "model.add(Conv2D(16, kernel_size=(5, 5), activation='relu',\n",
    "                 kernel_initializer='he_normal'))  # 14x14x6 -> 10x10x16\n",
    "model.add(MaxPooling2D(pool_size=(2, 2)))  # 10x10x16 -> 5x5x16\n",
    "\n",
    "model.add(Flatten())  # 5x5x16 -> 400\n",
    "model.add(Dense(240, activation='relu',\n",
    "                kernel_initializer='he_normal'))  # 400 ->240\n",
    "model.add(Dense(120, activation='relu', kernel_initializer='he_normal'))  # 240 ->120\n",
    "model.add(Dense(100, activation='softmax'))  # 120 ->100\n",
    "\n",
    "model.compile(\n",
    "    loss=keras.losses.categorical_crossentropy,\n",
    "    optimizer='adam',\n",
    "    metrics=['accuracy']\n",
    ")"
   ]
  },
  {
   "cell_type": "code",
   "execution_count": 4,
   "metadata": {},
   "outputs": [],
   "source": [
    "datagen = ImageDataGenerator(\n",
    "    featurewise_center=False,  # 3.2.1 Global Contrast Normalization (GCN)\n",
    "    samplewise_center=False,\n",
    "    featurewise_std_normalization=False,\n",
    "    samplewise_std_normalization=False,\n",
    "    zca_whitening=False,  # 3.2.2 Zero-phase Component Analysis (ZCA) Whitening\n",
    "    zca_epsilon=1e-06,\n",
    "    rotation_range=0,\n",
    "    width_shift_range=0.1,  # 3.1.1 左右にずらす\n",
    "    height_shift_range=0.0,  # 3.1.2 上下にずらす\n",
    "    brightness_range=None,\n",
    "    shear_range=0.0,\n",
    "    zoom_range=0.0,\n",
    "    channel_shift_range=0.0,\n",
    "    fill_mode=\"nearest\",\n",
    "    cval=0.0,\n",
    "    horizontal_flip=False,  # 3.1.3 左右反転\n",
    "    vertical_flip=False,\n",
    "    rescale=None,\n",
    "    preprocessing_function=None,\n",
    "    data_format=None,\n",
    "    validation_split=0.0,\n",
    "    dtype=None,\n",
    ")"
   ]
  },
  {
   "cell_type": "code",
   "execution_count": 5,
   "metadata": {},
   "outputs": [
    {
     "name": "stdout",
     "output_type": "stream",
     "text": [
      "WARNING:tensorflow:From <ipython-input-5-594a05619b00>:3: Model.fit_generator (from tensorflow.python.keras.engine.training) is deprecated and will be removed in a future version.\n",
      "Instructions for updating:\n",
      "Please use Model.fit, which supports generators.\n",
      "Epoch 1/30\n",
      "400/400 [==============================] - 18s 45ms/step - loss: 4.0648 - accuracy: 0.0826 - val_loss: 3.6771 - val_accuracy: 0.1426\n",
      "Epoch 2/30\n",
      "400/400 [==============================] - 17s 43ms/step - loss: 3.5318 - accuracy: 0.1655 - val_loss: 3.4298 - val_accuracy: 0.1854\n",
      "Epoch 3/30\n",
      "400/400 [==============================] - 17s 44ms/step - loss: 3.2795 - accuracy: 0.2099 - val_loss: 3.2235 - val_accuracy: 0.2257\n",
      "Epoch 4/30\n",
      "400/400 [==============================] - 17s 43ms/step - loss: 3.1124 - accuracy: 0.2391 - val_loss: 3.1595 - val_accuracy: 0.2331\n",
      "Epoch 5/30\n",
      "400/400 [==============================] - 18s 44ms/step - loss: 2.9867 - accuracy: 0.2629 - val_loss: 3.0326 - val_accuracy: 0.2651\n",
      "Epoch 6/30\n",
      "400/400 [==============================] - 17s 43ms/step - loss: 2.8901 - accuracy: 0.2812 - val_loss: 2.9961 - val_accuracy: 0.2729\n",
      "Epoch 7/30\n",
      "400/400 [==============================] - 17s 43ms/step - loss: 2.8041 - accuracy: 0.2975 - val_loss: 2.9770 - val_accuracy: 0.2781\n",
      "Epoch 8/30\n",
      "400/400 [==============================] - 17s 43ms/step - loss: 2.7242 - accuracy: 0.3143 - val_loss: 3.0284 - val_accuracy: 0.2695\n",
      "Epoch 9/30\n",
      "400/400 [==============================] - 17s 44ms/step - loss: 2.6661 - accuracy: 0.3252 - val_loss: 2.8467 - val_accuracy: 0.2975\n",
      "Epoch 10/30\n",
      "400/400 [==============================] - 17s 43ms/step - loss: 2.6022 - accuracy: 0.3404 - val_loss: 2.8664 - val_accuracy: 0.2977\n",
      "Epoch 11/30\n",
      "400/400 [==============================] - 17s 44ms/step - loss: 2.5519 - accuracy: 0.3467 - val_loss: 2.8395 - val_accuracy: 0.3051\n",
      "Epoch 12/30\n",
      "400/400 [==============================] - 17s 44ms/step - loss: 2.5124 - accuracy: 0.3559 - val_loss: 2.8336 - val_accuracy: 0.3041\n",
      "Epoch 13/30\n",
      "400/400 [==============================] - 17s 44ms/step - loss: 2.4597 - accuracy: 0.3682 - val_loss: 2.9672 - val_accuracy: 0.2866\n",
      "Epoch 14/30\n",
      "400/400 [==============================] - 17s 44ms/step - loss: 2.4155 - accuracy: 0.3733 - val_loss: 2.8261 - val_accuracy: 0.3102\n",
      "Epoch 15/30\n",
      "400/400 [==============================] - 17s 44ms/step - loss: 2.3711 - accuracy: 0.3845 - val_loss: 2.8048 - val_accuracy: 0.3167\n",
      "Epoch 16/30\n",
      "400/400 [==============================] - 17s 43ms/step - loss: 2.3361 - accuracy: 0.3936 - val_loss: 2.8113 - val_accuracy: 0.3194\n",
      "Epoch 17/30\n",
      "400/400 [==============================] - 17s 44ms/step - loss: 2.2985 - accuracy: 0.4028 - val_loss: 2.8544 - val_accuracy: 0.3150\n",
      "Epoch 18/30\n",
      "400/400 [==============================] - 17s 43ms/step - loss: 2.2702 - accuracy: 0.4087 - val_loss: 2.8427 - val_accuracy: 0.3156\n",
      "Epoch 19/30\n",
      "400/400 [==============================] - 17s 44ms/step - loss: 2.2321 - accuracy: 0.4139 - val_loss: 2.8397 - val_accuracy: 0.3200\n",
      "Epoch 20/30\n",
      "400/400 [==============================] - 17s 44ms/step - loss: 2.1999 - accuracy: 0.4219 - val_loss: 2.8320 - val_accuracy: 0.3198\n",
      "Epoch 21/30\n",
      "400/400 [==============================] - 17s 44ms/step - loss: 2.1773 - accuracy: 0.4283 - val_loss: 2.8441 - val_accuracy: 0.3257\n",
      "Epoch 22/30\n",
      "400/400 [==============================] - 17s 44ms/step - loss: 2.1494 - accuracy: 0.4360 - val_loss: 2.8523 - val_accuracy: 0.3220\n",
      "Epoch 23/30\n",
      "400/400 [==============================] - 17s 44ms/step - loss: 2.1303 - accuracy: 0.4375 - val_loss: 2.9225 - val_accuracy: 0.3148\n",
      "Epoch 24/30\n",
      "400/400 [==============================] - 17s 44ms/step - loss: 2.0982 - accuracy: 0.4441 - val_loss: 2.8688 - val_accuracy: 0.3283\n",
      "Epoch 25/30\n",
      "400/400 [==============================] - 18s 45ms/step - loss: 2.0722 - accuracy: 0.4491 - val_loss: 2.9456 - val_accuracy: 0.3219\n",
      "Epoch 26/30\n",
      "400/400 [==============================] - 18s 45ms/step - loss: 2.0449 - accuracy: 0.4561 - val_loss: 2.8879 - val_accuracy: 0.3248\n",
      "Epoch 27/30\n",
      "400/400 [==============================] - 18s 45ms/step - loss: 2.0305 - accuracy: 0.4608 - val_loss: 2.8969 - val_accuracy: 0.3231\n",
      "Epoch 28/30\n",
      "400/400 [==============================] - 18s 46ms/step - loss: 2.0039 - accuracy: 0.4627 - val_loss: 2.8877 - val_accuracy: 0.3279\n",
      "Epoch 29/30\n",
      "400/400 [==============================] - 20s 50ms/step - loss: 1.9833 - accuracy: 0.4691 - val_loss: 2.9702 - val_accuracy: 0.3198\n",
      "Epoch 30/30\n",
      "400/400 [==============================] - 25s 62ms/step - loss: 1.9583 - accuracy: 0.4742 - val_loss: 2.9305 - val_accuracy: 0.3295\n"
     ]
    },
    {
     "data": {
      "text/plain": [
       "<tensorflow.python.keras.callbacks.History at 0x1107dd310>"
      ]
     },
     "execution_count": 5,
     "metadata": {},
     "output_type": "execute_result"
    }
   ],
   "source": [
    "model.fit_generator(datagen.flow(x_train, y_train, batch_size=100),\n",
    "                    steps_per_epoch=x_train.shape[0] // 100, epochs=30,\n",
    "                    validation_data=(x_valid, y_valid))"
   ]
  }
 ],
 "metadata": {
  "kernelspec": {
   "display_name": "Python 3",
   "language": "python",
   "name": "python3"
  },
  "language_info": {
   "codemirror_mode": {
    "name": "ipython",
    "version": 3
   },
   "file_extension": ".py",
   "mimetype": "text/x-python",
   "name": "python",
   "nbconvert_exporter": "python",
   "pygments_lexer": "ipython3",
   "version": "3.7.5"
  }
 },
 "nbformat": 4,
 "nbformat_minor": 4
}
