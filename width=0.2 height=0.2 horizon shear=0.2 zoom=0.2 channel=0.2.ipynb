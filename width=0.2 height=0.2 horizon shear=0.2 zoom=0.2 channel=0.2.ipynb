{
 "cells": [
  {
   "cell_type": "code",
   "execution_count": 1,
   "metadata": {},
   "outputs": [
    {
     "name": "stderr",
     "output_type": "stream",
     "text": [
      "/Users/yukinaohashi/.pyenv/versions/3.7.5/lib/python3.7/site-packages/pandas/compat/__init__.py:120: UserWarning: Could not import the lzma module. Your installed Python is incomplete. Attempting to use lzma compression will result in a RuntimeError.\n",
      "  warnings.warn(msg)\n"
     ]
    }
   ],
   "source": [
    "%matplotlib inline\n",
    "\n",
    "import os\n",
    "\n",
    "import tensorflow.keras as keras\n",
    "import numpy as np\n",
    "import matplotlib.pyplot as plt\n",
    "\n",
    "from tensorflow.keras.layers import Dense, Conv2D, MaxPooling2D, Flatten, Input, Activation, add, Add, Dropout, BatchNormalization\n",
    "from tensorflow.keras.callbacks import EarlyStopping\n",
    "from tensorflow.keras.models import Sequential, Model\n",
    "from tensorflow.keras.datasets import cifar100\n",
    "from tensorflow.keras.datasets import fashion_mnist\n",
    "from tensorflow.keras.utils import to_categorical\n",
    "from sklearn.model_selection import train_test_split\n",
    "from keras.utils import np_utils\n",
    "\n",
    "from IPython.display import SVG\n",
    "from tensorflow.python.keras.utils.vis_utils import model_to_dot\n",
    "from tensorflow.keras.preprocessing.image import ImageDataGenerator\n",
    "\n",
    "random_state = 42"
   ]
  },
  {
   "cell_type": "code",
   "execution_count": 2,
   "metadata": {},
   "outputs": [],
   "source": [
    "(x_train, y_train), (x_test, y_test) = cifar100.load_data(label_mode='fine')\n",
    "\n",
    "x_train = x_train.astype('float32')/255.0\n",
    "y_train = np.eye(100)[y_train.astype('int32').flatten()]\n",
    "x_test = x_test.astype('float32')/255.0\n",
    "y_test = np.eye(100)[y_test.astype('int32').flatten()]\n",
    "\n",
    "x_train, x_valid, y_train, y_valid = train_test_split(\n",
    "    x_train, y_train, test_size=10000)"
   ]
  },
  {
   "cell_type": "code",
   "execution_count": 3,
   "metadata": {},
   "outputs": [],
   "source": [
    "model = Sequential()\n",
    "\n",
    "model.add(Conv2D(6, kernel_size=(5, 5), activation='relu',\n",
    "                 kernel_initializer='he_normal', input_shape=(32, 32, 3)))  # 32x32x3 -> 28x28x6\n",
    "model.add(MaxPooling2D(pool_size=(2, 2)))  # 28x28x6 -> 14x14x6\n",
    "model.add(Conv2D(16, kernel_size=(5, 5), activation='relu',\n",
    "                 kernel_initializer='he_normal'))  # 14x14x6 -> 10x10x16\n",
    "model.add(MaxPooling2D(pool_size=(2, 2)))  # 10x10x16 -> 5x5x16\n",
    "\n",
    "model.add(Flatten())  # 5x5x16 -> 400\n",
    "model.add(Dense(240, activation='relu',\n",
    "                kernel_initializer='he_normal'))  # 400 ->240\n",
    "model.add(Dense(120, activation='relu', kernel_initializer='he_normal'))  # 240 ->120\n",
    "model.add(Dense(100, activation='softmax'))  # 120 ->100\n",
    "\n",
    "model.compile(\n",
    "    loss=keras.losses.categorical_crossentropy,\n",
    "    optimizer='adam',\n",
    "    metrics=['accuracy']\n",
    ")"
   ]
  },
  {
   "cell_type": "code",
   "execution_count": 4,
   "metadata": {},
   "outputs": [],
   "source": [
    "datagen = ImageDataGenerator(\n",
    "    featurewise_center=False,\n",
    "    samplewise_center=False,\n",
    "    featurewise_std_normalization=False,\n",
    "    samplewise_std_normalization=False,\n",
    "    zca_whitening=False,\n",
    "    zca_epsilon=1e-06,\n",
    "    rotation_range=0,\n",
    "    width_shift_range=0.2,  # 3.1.1 左右にずらす\n",
    "    height_shift_range=0.2,  # 3.1.2 上下にずらす\n",
    "    brightness_range=None,\n",
    "    shear_range=0.2,\n",
    "    zoom_range=0.2,\n",
    "    channel_shift_range=0.2,\n",
    "    fill_mode=\"nearest\",\n",
    "    cval=0.0,\n",
    "    horizontal_flip=True,\n",
    "    vertical_flip=False,\n",
    "    rescale=None,\n",
    "    preprocessing_function=None,\n",
    "    data_format=None,\n",
    "    validation_split=0.0,\n",
    "    dtype=None,\n",
    ")"
   ]
  },
  {
   "cell_type": "code",
   "execution_count": 5,
   "metadata": {},
   "outputs": [
    {
     "name": "stdout",
     "output_type": "stream",
     "text": [
      "WARNING:tensorflow:From <ipython-input-5-594a05619b00>:3: Model.fit_generator (from tensorflow.python.keras.engine.training) is deprecated and will be removed in a future version.\n",
      "Instructions for updating:\n",
      "Please use Model.fit, which supports generators.\n",
      "Epoch 1/30\n",
      "400/400 [==============================] - 60s 151ms/step - loss: 4.2462 - accuracy: 0.0553 - val_loss: 3.8781 - val_accuracy: 0.1069\n",
      "Epoch 2/30\n",
      "400/400 [==============================] - 57s 142ms/step - loss: 3.8398 - accuracy: 0.1124 - val_loss: 3.5845 - val_accuracy: 0.1556\n",
      "Epoch 3/30\n",
      "400/400 [==============================] - 57s 142ms/step - loss: 3.6626 - accuracy: 0.1367 - val_loss: 3.4646 - val_accuracy: 0.1788\n",
      "Epoch 4/30\n",
      "400/400 [==============================] - 57s 142ms/step - loss: 3.5458 - accuracy: 0.1597 - val_loss: 3.3515 - val_accuracy: 0.1965\n",
      "Epoch 5/30\n",
      "400/400 [==============================] - 56s 140ms/step - loss: 3.4597 - accuracy: 0.1730 - val_loss: 3.2359 - val_accuracy: 0.2144\n",
      "Epoch 6/30\n",
      "400/400 [==============================] - 57s 143ms/step - loss: 3.3990 - accuracy: 0.1830 - val_loss: 3.2515 - val_accuracy: 0.2122\n",
      "Epoch 7/30\n",
      "400/400 [==============================] - 58s 144ms/step - loss: 3.3460 - accuracy: 0.1943 - val_loss: 3.1487 - val_accuracy: 0.2307\n",
      "Epoch 8/30\n",
      "400/400 [==============================] - 57s 143ms/step - loss: 3.3004 - accuracy: 0.2026 - val_loss: 3.2569 - val_accuracy: 0.2214\n",
      "Epoch 9/30\n",
      "400/400 [==============================] - 58s 144ms/step - loss: 3.2589 - accuracy: 0.2084 - val_loss: 3.1564 - val_accuracy: 0.2312\n",
      "Epoch 10/30\n",
      "400/400 [==============================] - 57s 143ms/step - loss: 3.2399 - accuracy: 0.2113 - val_loss: 3.0109 - val_accuracy: 0.2603\n",
      "Epoch 11/30\n",
      "400/400 [==============================] - 58s 144ms/step - loss: 3.1897 - accuracy: 0.2213 - val_loss: 3.0687 - val_accuracy: 0.2580\n",
      "Epoch 12/30\n",
      "400/400 [==============================] - 58s 144ms/step - loss: 3.1736 - accuracy: 0.2233 - val_loss: 2.9761 - val_accuracy: 0.2660\n",
      "Epoch 13/30\n",
      "400/400 [==============================] - 58s 146ms/step - loss: 3.1444 - accuracy: 0.2307 - val_loss: 2.9379 - val_accuracy: 0.2738\n",
      "Epoch 14/30\n",
      "400/400 [==============================] - 57s 142ms/step - loss: 3.1276 - accuracy: 0.2350 - val_loss: 3.0257 - val_accuracy: 0.2593\n",
      "Epoch 15/30\n",
      "400/400 [==============================] - 58s 146ms/step - loss: 3.1071 - accuracy: 0.2370 - val_loss: 3.0327 - val_accuracy: 0.2593\n",
      "Epoch 16/30\n",
      "400/400 [==============================] - 58s 145ms/step - loss: 3.0845 - accuracy: 0.2397 - val_loss: 3.0056 - val_accuracy: 0.2665\n",
      "Epoch 17/30\n",
      "400/400 [==============================] - 58s 144ms/step - loss: 3.0669 - accuracy: 0.2458 - val_loss: 2.9316 - val_accuracy: 0.2806\n",
      "Epoch 18/30\n",
      "400/400 [==============================] - 44s 111ms/step - loss: 3.0429 - accuracy: 0.2479 - val_loss: 2.8810 - val_accuracy: 0.2845\n",
      "Epoch 19/30\n",
      "400/400 [==============================] - 45s 113ms/step - loss: 3.0436 - accuracy: 0.2461 - val_loss: 3.1587 - val_accuracy: 0.2375\n",
      "Epoch 20/30\n",
      "400/400 [==============================] - 38s 94ms/step - loss: 3.0254 - accuracy: 0.2524 - val_loss: 2.9354 - val_accuracy: 0.2795\n",
      "Epoch 21/30\n",
      "400/400 [==============================] - 30s 74ms/step - loss: 3.0014 - accuracy: 0.2568 - val_loss: 2.9092 - val_accuracy: 0.2815\n",
      "Epoch 22/30\n",
      "400/400 [==============================] - 27s 67ms/step - loss: 2.9889 - accuracy: 0.2576 - val_loss: 2.9439 - val_accuracy: 0.2810\n",
      "Epoch 23/30\n",
      "400/400 [==============================] - 27s 67ms/step - loss: 2.9693 - accuracy: 0.2612 - val_loss: 2.9164 - val_accuracy: 0.2835\n",
      "Epoch 24/30\n",
      "400/400 [==============================] - 26s 66ms/step - loss: 2.9538 - accuracy: 0.2607 - val_loss: 2.8735 - val_accuracy: 0.2925\n",
      "Epoch 25/30\n",
      "400/400 [==============================] - 26s 65ms/step - loss: 2.9590 - accuracy: 0.2622 - val_loss: 2.8282 - val_accuracy: 0.2916\n",
      "Epoch 26/30\n",
      "400/400 [==============================] - 27s 67ms/step - loss: 2.9344 - accuracy: 0.2675 - val_loss: 3.0398 - val_accuracy: 0.2630\n",
      "Epoch 27/30\n",
      "400/400 [==============================] - 26s 65ms/step - loss: 2.9268 - accuracy: 0.2708 - val_loss: 2.8327 - val_accuracy: 0.2982\n",
      "Epoch 28/30\n",
      "400/400 [==============================] - 26s 65ms/step - loss: 2.9245 - accuracy: 0.2708 - val_loss: 2.8540 - val_accuracy: 0.2950\n",
      "Epoch 29/30\n",
      "400/400 [==============================] - 26s 65ms/step - loss: 2.9052 - accuracy: 0.2740 - val_loss: 2.9501 - val_accuracy: 0.2794\n",
      "Epoch 30/30\n",
      "400/400 [==============================] - 26s 64ms/step - loss: 2.9021 - accuracy: 0.2733 - val_loss: 2.8023 - val_accuracy: 0.3034\n"
     ]
    },
    {
     "data": {
      "text/plain": [
       "<tensorflow.python.keras.callbacks.History at 0x107c14150>"
      ]
     },
     "execution_count": 5,
     "metadata": {},
     "output_type": "execute_result"
    }
   ],
   "source": [
    "model.fit_generator(datagen.flow(x_train, y_train, batch_size=100),\n",
    "                    steps_per_epoch=x_train.shape[0] // 100, epochs=30,\n",
    "                    validation_data=(x_valid, y_valid))"
   ]
  }
 ],
 "metadata": {
  "kernelspec": {
   "display_name": "Python 3",
   "language": "python",
   "name": "python3"
  },
  "language_info": {
   "codemirror_mode": {
    "name": "ipython",
    "version": 3
   },
   "file_extension": ".py",
   "mimetype": "text/x-python",
   "name": "python",
   "nbconvert_exporter": "python",
   "pygments_lexer": "ipython3",
   "version": "3.7.5"
  }
 },
 "nbformat": 4,
 "nbformat_minor": 4
}
