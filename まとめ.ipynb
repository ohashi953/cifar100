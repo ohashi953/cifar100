{
 "cells": [
  {
   "cell_type": "markdown",
   "metadata": {},
   "source": [
    "## CNNモデル\n",
    "\n",
    "Conv2D        # 32x32x3 -> 28x28x6\n",
    "\n",
    "MaxPooling2D  # 28x28x6 -> 14x14x6\n",
    "\n",
    "Conv2D        # 14x14x6 -> 10x10x16\n",
    "\n",
    "MaxPooling2D  # 10x10x16 -> 5x5x16\n",
    "\n",
    "Flatten       # 5x5x16 -> 400\n",
    "\n",
    "Dense         # 400 ->240\n",
    "\n",
    "Dense         # 240 ->120\n",
    "\n",
    "Dense         # 120 ->100"
   ]
  },
  {
   "cell_type": "markdown",
   "metadata": {},
   "source": [
    "## 実験\n",
    "\n",
    "・jupyter Notebook\n",
    "\n",
    "・30 epoch\n",
    "\n",
    "・loss=categorical_crossentropy\n",
    "\n",
    "・optimizer=adam\n",
    "\n",
    "・metrics=accuracy"
   ]
  },
  {
   "cell_type": "markdown",
   "metadata": {},
   "source": [
    "## データ拡張方法\n",
    "\n",
    "## 1. Data Augmentation\n",
    "width_shift_range: ランダムに水平シフトする範囲．\n",
    "\n",
    "height_shift_range: ランダムに垂直シフトする範囲．\n",
    "\n",
    "shear_range: シアー強度（反時計回りのシアー角度)\n",
    "\n",
    "zoom_range: ランダムにズームする範囲．\n",
    "\n",
    "channel_shift_range: ランダムにチャンネルをシフトする範囲\n",
    "\n",
    "## 2 画像データの正規化\n",
    "Global Contrast Normalization (GCN):  ピクセルの値を平均0、分散1に正規化\n",
    "\n",
    "Zero-phase Component Analysis (ZCA) Whitening:  各要素間の相関をゼロ(白色化)"
   ]
  },
  {
   "cell_type": "markdown",
   "metadata": {},
   "source": [
    "## 結果"
   ]
  },
  {
   "cell_type": "markdown",
   "metadata": {},
   "source": [
    "・なし\n",
    "\n",
    "val_loss: 3.9149 - val_accuracy: 0.2644"
   ]
  },
  {
   "cell_type": "markdown",
   "metadata": {},
   "source": [
    "・width=0.1\n",
    "\n",
    "val_loss: 2.9305 - val_accuracy: 0.3295"
   ]
  },
  {
   "cell_type": "markdown",
   "metadata": {},
   "source": [
    "・width=0.1 horizon\n",
    "\n",
    "val_loss: 2.8493 - val_accuracy: 0.3262"
   ]
  },
  {
   "cell_type": "markdown",
   "metadata": {},
   "source": [
    "・horizon=0.2\n",
    "\n",
    "val_loss: 2.9436 - val_accuracy: 0.3181"
   ]
  },
  {
   "cell_type": "markdown",
   "metadata": {},
   "source": [
    "・width=0.1 height=0.1 horizon\n",
    "\n",
    "val_loss: 2.7793 - val_accuracy: 0.3167"
   ]
  },
  {
   "cell_type": "markdown",
   "metadata": {},
   "source": [
    "・width=0.2 height=0.2 horizon\n",
    "\n",
    "val_loss: 2.7426 - val_accuracy: 0.3126"
   ]
  },
  {
   "cell_type": "markdown",
   "metadata": {},
   "source": [
    "・width=0.2 height=0.2 horizon shear=0.2 zoom=0.2\n",
    "\n",
    "val_loss: 2.7578 - val_accuracy: 0.3126"
   ]
  },
  {
   "cell_type": "markdown",
   "metadata": {},
   "source": [
    "・height=0.2\n",
    "\n",
    "val_loss: 2.8390 - val_accuracy: 0.3096"
   ]
  },
  {
   "cell_type": "markdown",
   "metadata": {},
   "source": [
    "・width=0.2 height=0.2 horizon shear=0.2 zoom=0.2 channel=0.2\n",
    "\n",
    "val_loss: 2.8023 - val_accuracy: 0.3034"
   ]
  },
  {
   "cell_type": "markdown",
   "metadata": {},
   "source": [
    "・width=0.2\n",
    "\n",
    "val_loss: 2.9471 - val_accuracy: 0.3005"
   ]
  },
  {
   "cell_type": "markdown",
   "metadata": {},
   "source": [
    "・width=0.2 height=0.2 horizon shear=0.2\n",
    "\n",
    "val_loss: 2.8642 - val_accuracy: 0.2923"
   ]
  },
  {
   "cell_type": "markdown",
   "metadata": {},
   "source": [
    "・width=0.2 height=0.2 horizon zoom=0.2\n",
    "\n",
    "val_loss: 2.8861 - val_accuracy: 0.2859"
   ]
  },
  {
   "cell_type": "markdown",
   "metadata": {},
   "source": [
    "・width=0.2 height=0.2 horizon GCN/ZVA\n",
    "\n",
    "val_loss: 7.3064 - val_accuracy: 0.0218"
   ]
  },
  {
   "cell_type": "markdown",
   "metadata": {},
   "source": [
    "・GCN/ZVA\n",
    "\n",
    "val_loss: 8.0158 - val_accuracy: 0.0197"
   ]
  }
 ],
 "metadata": {
  "kernelspec": {
   "display_name": "Python 3",
   "language": "python",
   "name": "python3"
  },
  "language_info": {
   "codemirror_mode": {
    "name": "ipython",
    "version": 3
   },
   "file_extension": ".py",
   "mimetype": "text/x-python",
   "name": "python",
   "nbconvert_exporter": "python",
   "pygments_lexer": "ipython3",
   "version": "3.7.5"
  }
 },
 "nbformat": 4,
 "nbformat_minor": 4
}
